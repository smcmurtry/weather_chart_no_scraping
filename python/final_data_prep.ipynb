{
 "cells": [
  {
   "cell_type": "code",
   "execution_count": 1,
   "metadata": {
    "collapsed": true
   },
   "outputs": [],
   "source": [
    "import pandas as pd\n",
    "import os\n",
    "from geopy.distance import vincenty\n",
    "import json\n",
    "from matplotlib import pyplot as plt\n",
    "%matplotlib inline"
   ]
  },
  {
   "cell_type": "code",
   "execution_count": 2,
   "metadata": {
    "collapsed": true
   },
   "outputs": [],
   "source": [
    "def get_dist_km(stn_id_1, stn_id_2, df):\n",
    "    \n",
    "    i_1 = df.query('station_id == @stn_id_1').index[0]\n",
    "    i_2 = df.query('station_id == @stn_id_2').index[0]\n",
    "\n",
    "    coords_1 = (df.latitude_decimal_degrees[i_1], df.longitude_decimal_degrees[i_1])\n",
    "    coords_2 = (df.latitude_decimal_degrees[i_2], df.longitude_decimal_degrees[i_2])\n",
    "    \n",
    "    dist = vincenty(coords_1, coords_2)\n",
    "    \n",
    "    return dist.kilometers"
   ]
  },
  {
   "cell_type": "code",
   "execution_count": 6,
   "metadata": {
    "collapsed": true
   },
   "outputs": [],
   "source": [
    "df1 = pd.DataFrame.from_csv('../data/station_longlist.csv')\n",
    "df2 = pd.DataFrame.from_csv('../data/station_shortlist.csv')"
   ]
  },
  {
   "cell_type": "code",
   "execution_count": 7,
   "metadata": {
    "collapsed": false,
    "scrolled": true
   },
   "outputs": [
    {
     "data": {
      "text/plain": [
       "(60, 70)"
      ]
     },
     "execution_count": 7,
     "metadata": {},
     "output_type": "execute_result"
    },
    {
     "data": {
      "image/png": "[encoded data removed]",
      "text/plain": [
       "<matplotlib.figure.Figure at 0x108b11290>"
      ]
     },
     "metadata": {},
     "output_type": "display_data"
    }
   ],
   "source": [
    "plt.hist([x for x in df2.T_high_nan if x == x], bins=700);\n",
    "plt.xlim([60, 70])"
   ]
  },
  {
   "cell_type": "code",
   "execution_count": 8,
   "metadata": {
    "collapsed": false,
    "scrolled": true
   },
   "outputs": [
    {
     "data": {
      "image/png": "[encoded data removed]",
      "text/plain": [
       "<matplotlib.figure.Figure at 0x10a0a1190>"
      ]
     },
     "metadata": {},
     "output_type": "display_data"
    }
   ],
   "source": [
    "plt.hist([x for x in df2.h_all_precip_nan if x == x], bins=40);"
   ]
  },
  {
   "cell_type": "code",
   "execution_count": 9,
   "metadata": {
    "collapsed": false
   },
   "outputs": [],
   "source": [
    "bad_rows_1 = df2.query('h_all_precip_nan != h_all_precip_nan and T_high_nan != T_high_nan').index\n",
    "bad_rows_2 = df2.query('h_all_precip_nan > 700 and T_high_nan > 700').index\n",
    "df2 = df2.drop(bad_rows_1 + bad_rows_2)"
   ]
  },
  {
   "cell_type": "code",
   "execution_count": 10,
   "metadata": {
    "collapsed": true
   },
   "outputs": [],
   "source": [
    "df2.to_csv('../data/station_shorterlist.csv')"
   ]
  },
  {
   "cell_type": "code",
   "execution_count": 11,
   "metadata": {
    "collapsed": false
   },
   "outputs": [
    {
     "data": {
      "text/plain": [
       "1338"
      ]
     },
     "execution_count": 11,
     "metadata": {},
     "output_type": "execute_result"
    }
   ],
   "source": [
    "len(df2)"
   ]
  },
  {
   "cell_type": "code",
   "execution_count": 12,
   "metadata": {
    "collapsed": false
   },
   "outputs": [
    {
     "data": {
      "text/plain": [
       "Index([u'Unnamed: 0.1', u'name', u'province', u'climate_id', u'station_id', u'wmo_id', u'tc_id', u'latitude_decimal_degrees', u'longitude_decimal_degrees', u'latitude', u'longitude', u'elevation_m', u'start_date', u'end_date', u'h_rain_nan', u'T_low_nan', u'date_nan', u'h_snow_nan', u'T_high_nan', u'h_all_precip_nan', u'T_high_avg_nan', u'T_min_nan', u'T_low_avg_nan', u'T_max_nan', u'period_T_low_nan', u'period_T_high_nan', u'T_min_year_nan', u'day_nan', u'T_max_year_nan', u'month_nan', u'alm_stn_id', u'alm_stn_dist', u'norm_stn_id', u'norm_stn_dist'], dtype='object')"
      ]
     },
     "execution_count": 12,
     "metadata": {},
     "output_type": "execute_result"
    }
   ],
   "source": [
    "df2.columns"
   ]
  },
  {
   "cell_type": "code",
   "execution_count": 13,
   "metadata": {
    "collapsed": false,
    "scrolled": true
   },
   "outputs": [
    {
     "name": "stdout",
     "output_type": "stream",
     "text": [
      "0 1 2 3 4 5 6 8 9 10 11 12 13 14 15 16 17 18 19 20 21 22 23 24 26 27 28 29 30 31 33 34 35 36 37 38 39 40 41 42 43 44 45 46 48 49 50 51 52 53 54 55 56 57 58 59 60 61 62 63 64 65 66 67 68 69 70 71 72 73 74 75 76 77 78 80 81 82 83 84 85 88 89 90 91 92 93 94 95 96 97 98 99 100 101 102 103 105 106 107 108 109 110 111 112 113 114 115 116 117 118 119 120 122 123 124 125 126 127 128 129 130 131 133 134 135 136 137 138 140 141 142 143 144 145 146 147 148 149 150 151 152 153 155 156 157 158 159 160 161 162 163 164 165 166 167 168 169 170 171 173 174 175 176 177 178 179 180 181 182 183 184 186 187 188 190 191 192 193 194 195 196 197 198 199 200 201 202 203 204 205 206 207 208 209 210 211 212 213 214 215 216 217 219 220 221 222 223 224 225 226 227 228 229 231 232 233 234 235 236 237 238 239 240 241 242 243 244 245 246 247 248 249 250 251 252 253 254 255 256 257 258 259 260 261 262 263 264 265 266 267 268 269 270 271 272 273 274 275 276 277 278 280 281 282 283 284 285 286 287 289 290 291 292 293 294 295 296 297 298 299 301 302 303 304 306 307 308 310 311 312 313 314 315 316 317 318 320 321 322 323 324 325 326 327 328 329 330 331 332 333 335 336 337 338 339 340 341 342 343 345 347 348 349 351 352 353 354 357 360 362 363 364 365 367 368 370 371 372 373 375 376 377 379 380 381 382 384 385 386 388 389 390 391 392 394 395 397 398 401 402 403 404 406 407 408 410 411 412 413 415 416 418 419 420 421 422 423 424 426 427 428 431 432 433 434 436 439 441 442 444 445 446 447 448 449 450 452 453 454 456 457 458 459 460 461 462 463 464 465 466 467 468 470 471 472 473 474 475 476 477 478 479 480 481 482 483 485 486 487 488 489 490 491 492 494 495 496 497 499 501 502 503 504 505 506 508 509 510 512 513 514 515 516 517 518 519 520 521 522 523 524 525 526 527 528 529 530 531 532 533 534 535 536 537 538 539 540 541 542 543 544 545 546 548 549 550 551 552 553 554 555 559 560 561 564 565 567 568 569 570 571 572 573 575 576 578 580 581 582 583 584 585 586 587 588 590 591 592 593 595 596 597 598 599 600 601 602 603 604 605 606 607 608 609 610 611 613 616 619 620 621 622 624 625 626 627 628 629 630 631 633 634 635 636 638 639 640 642 644 645 646 647 648 649 650 651 652 653 654 655 656 659 660 661 664 665 666 667 668 669 670 671 672 673 674 675 676 677 678 679 680 681 682 683 684 685 686 687 688 689 690 691 692 693 694 695 697 698 701 702 703 704 705 707 708 709 710 712 713 715 716 717 718 719 720 722 723 724 725 726 728 729 730 731 732 733 734 735 736 737 738 739 740 741 742 743 744 745 746 748 749 750 751 752 753 754 756 757 758 759 760 761 762 763 764 765 766 767 768 769 770 771 772 773 774 775 776 777 778 779 780 781 782 783 784 785 786 787 788 789 790 791 792 793 794 795 796 797 798 799 801 802 804 806 807 808 809 810 811 812 813 814 815 816 817 818 819 820 821 822 823 824 825 826 827 828 829 830 831 832 833 834 835 836 837 839 840 841 842 843 844 845 846 847 848 849 850 851 852 853 854 855 856 857 858 859 860 861 862 863 864 865 867 868 869 870 872 873 874 875 876 877 878 879 880 881 882 883 884 885 886 887 888 889 890 891 892 893 894 895 896 897 899 900 901 903 904 905 906 907 908 909 910 911 912 913 914 916 917 918 919 921 922 924 925 926 927 928 929 930 931 934 935 936 937 938 939 940 942 943 944 945 946 948 949 950 952 953 954 955 956 957 958 959 960 961 962 963 964 965 966 967 968 969 971 972 973 974 975 976 977 978 979 980 981 982 984 985 986 987 988 989 991 992 993 994 995 996 997 998 999 1000 1001 1002 1003 1004 1005 1006 1007 1008 1009 1010 1011 1012 1013 1014 1015 1016 1017 1018 1019 1020 1021 1022 1023 1024 1025 1026 1027 1028 1029 1030 1031 1032 1033 1034 1035 1037 1038 1039 1040 1041 1042 1043 1044 1045 1046 1047 1048 1049 1050 1051 1052 1053 1054 1055 1056 1057 1058 1059 1060 1061 1062 1063 1064 1065 1066 1067 1068 1069 1070 1071 1072 1073 1074 1075 1076 1077 1078 1079 1080 1081 1082 1083 1084 1085 1086 1088 1089 1090 1091 1092 1093 1094 1095 1096 1097 1098 1099 1100 1101 1102 1103 1104 1106 1107 1108 1109 1110 1112 1113 1114 1115 1116 1117 1118 1119 1120 1121 1122 1123 1124 1125 1127 1128 1129 1132 1133 1134 1135 1136 1137 1138 1139 1140 1141 1142 1143 1144 1145 1146 1147 1148 1149 1150 1152 1153 1154 1155 1157 1158 1159 1160 1161 1162 1163 1164 1165 1166 1167 1168 1169 1170 1171 1172 1173 1174 1175 1176 1177 1178 1179 1180 1181 1182 1183 1184 1185 1186 1187 1188 1189 1190 1191 1192 1193 1194 1195 1196 1197 1198 1199 1200 1201 1202 1203 1204 1205 1206 1207 1208 1209 1210 1212 1213 1215 1216 1217 1218 1219 1220 1221 1222 1223 1224 1226 1227 1228 1229 1230 1231 1233 1234 1235 1236 1237 1238 1239 1240 1241 1242 1243 1244 1245 1246 1247 1248 1249 1250 1251 1252 1253 1254 1255 1256 1257 1258 1259 1260 1261 1262 1263 1264 1265 1266 1267 1268 1269 1270 1271 1272 1273 1274 1275 1276 1277 1278 1279 1280 1281 1282 1283 1284 1285 1286 1287 1288 1289 1290 1291 1292 1293 1294 1295 1296 1297 1298 1299 1300 1301 1302 1303 1304 1305 1306 1307 1308 1309 1310 1311 1312 1313 1314 1315 1316 1317 1319 1320 1321 1322 1324 1325 1326 1327 1329 1330 1331 1333 1336 1342 1347 1350 1351 1352 1356 1357 1358 1359 1360 1361 1362 1363 1364 1365 1367 1368 1369 1370 1371 1372 1373 1374 1375 1376 1377 1378 1379 1380 1381 1382 1383 1384 1385 1386 1387 1390 1391 1392 1393 1394 1395 1397 1400 1403 1404 1405 1406 1407 1409 1412 1414 1416 1417 1418 1419 1420 1421 1422 1424 1426 1427 1428 1429 1430 1431 1432 1433 1434 1435 1436 1437 1438 1439 1440 1441 1442 1443 1445 1446 1448 1449 1450 1451 1452 1453 1454 1455 1456 1457 1458 1459 1460 1461 1462 1463 1464 1465 1466 1467 1468 1469 1470 1471 1472 1473 1474 1475 1476 1477 1478 1479 1480 1481 1482 1483 1484 1485 1487 1488 1489 1490 1491 1492 1493 1494 1496 1497 1498 1500 1501 1502 1504 1505 1506 1508 1509 1510\n"
     ]
    }
   ],
   "source": [
    "# make a dict where key is stn_id and val is a list of the 10 closest stations in that province\n",
    "closest = {}\n",
    "for i1 in df2.index[:]:\n",
    "    print i1,\n",
    "    stn_id_1 = df2.station_id[i1]\n",
    "    prov = df2.province[i1]\n",
    "    index_2 = df2.query('province == @prov').index\n",
    "    dist_list = []\n",
    "    for i2 in index_2:\n",
    "        stn_id_2 = df2.station_id[i2]\n",
    "        dist = get_dist_km(stn_id_1, stn_id_2, df2)\n",
    "        dist_list.append((stn_id_2, dist))\n",
    "    dist_list.sort(key=lambda d: d[1])\n",
    "    closest[stn_id_1] = dist_list[1:11]"
   ]
  },
  {
   "cell_type": "code",
   "execution_count": 20,
   "metadata": {
    "collapsed": true
   },
   "outputs": [],
   "source": [
    "f = open('../data/closest_daily_weather_dict.json', 'w')\n",
    "json.dump(closest, f)\n",
    "f.close()"
   ]
  },
  {
   "cell_type": "code",
   "execution_count": 133,
   "metadata": {
    "collapsed": false
   },
   "outputs": [
    {
     "data": {
      "text/plain": [
       "65.0"
      ]
     },
     "execution_count": 133,
     "metadata": {},
     "output_type": "execute_result"
    }
   ],
   "source": [
    "min(df2.T_high_nan)"
   ]
  },
  {
   "cell_type": "code",
   "execution_count": 169,
   "metadata": {
    "collapsed": false
   },
   "outputs": [],
   "source": [
    "col_categories = [{'name': 'temp', 'src_id_col': 'temp_src_id', 'cols': ['T_high', 'T_low']},\n",
    "                  {'name': 'precip', 'src_id_col': 'precip_src_id', \n",
    "                   'cols': ['h_rain', 'h_snow', 'h_all_precip']}]\n",
    "\n",
    "def add_src_cols(df):\n",
    "    for d in src_cols:\n",
    "        df[d['src_id_col']] = pd.Series(index=df.index)\n",
    "    return df\n",
    "\n",
    "def fill_in(df_main, df_filler, filler_stn_id):\n",
    "    \"Fill in the missing values in df_main with some from df_filler\"\n",
    "    nan_prefill = {}\n",
    "    for d in col_categories:\n",
    "        main_nan = set([])\n",
    "        filler_notnan = set([])\n",
    "        for c in d['cols']:\n",
    "            main_nan = main_nan.union(set(list(df_main.query(c + ' != ' + c).index)))\n",
    "            filler_notnan = filler_notnan.union(set(list(df_filler.query(c + ' == ' + c).index)))\n",
    "        nan_prefill[d['name']] = len(main_nan)\n",
    "        if len(main_nan) < 66: # 65 nan values is the minimum based on when the files were downloaded\n",
    "            continue\n",
    "        indices_to_fill = main_nan.intersection(filler_notnan)\n",
    "        for i in indices_to_fill:\n",
    "            for c in d['cols']:\n",
    "                df_main.ix[i, c] = df_filler[c][i]\n",
    "            df_main.ix[i, d['src_id_col']] = filler_stn_id\n",
    "    return df_main, nan_prefill\n",
    "\n",
    "def save_filled_df(df, stn_id):\n",
    "    df.to_csv('../data/daily_weather_filled/' + str(stn_id) + '.csv')"
   ]
  },
  {
   "cell_type": "code",
   "execution_count": 167,
   "metadata": {
    "collapsed": true
   },
   "outputs": [],
   "source": [
    "df2['temp_nan_post_fill'] = pd.Series(index=df2.index)\n",
    "df2['precip_nan_post_fill'] = pd.Series(index=df2.index)"
   ]
  },
  {
   "cell_type": "code",
   "execution_count": 168,
   "metadata": {
    "collapsed": false
   },
   "outputs": [
    {
     "data": {
      "text/plain": [
       "{'precip': 66, 'temp': 65}"
      ]
     },
     "execution_count": 168,
     "metadata": {},
     "output_type": "execute_result"
    }
   ],
   "source": [
    "nan_prefill"
   ]
  },
  {
   "cell_type": "code",
   "execution_count": 174,
   "metadata": {
    "collapsed": false,
    "scrolled": true
   },
   "outputs": [
    {
     "name": "stdout",
     "output_type": "stream",
     "text": [
      "1322 fail\n",
      "1324 fail\n",
      "1325 fail\n",
      "1326 {'precip': 151, 'temp': 65} 9 203.158967306\n",
      "1327 {'precip': 151, 'temp': 65} 9 202.439408473\n",
      "1329 {'precip': 151, 'temp': 65} 9 189.054992412\n",
      "1330 {'precip': 154, 'temp': 65} 9 189.054992412\n",
      "1331 {'precip': 151, 'temp': 65} 9 190.171135988\n",
      "1333 {'precip': 151, 'temp': 65} 9 240.369474912\n",
      "1336 fail\n",
      "1342 fail\n",
      "1347 fail\n",
      "1350 fail\n",
      "1351 {'precip': 361, 'temp': 65} 9 512.169524065\n",
      "1352 {'precip': 361, 'temp': 65} 9 511.009834221\n",
      "1356 {'precip': 66, 'temp': 65} 9 131.577881727\n",
      "1357 {'precip': 65, 'temp': 65} 4 100.238143239\n",
      "1358 {'precip': 65, 'temp': 65} 4 98.818676363\n",
      "1359 {'precip': 65, 'temp': 65} 4 70.8495569088\n",
      "1360 {'precip': 66, 'temp': 65} 9 145.441403008\n",
      "1361 {'precip': 65, 'temp': 65} 4 114.135149019\n",
      "1362 {'precip': 65, 'temp': 65} 7 100.238143239\n",
      "1363 {'precip': 157, 'temp': 65} 9 98.8305949216\n",
      "1364 {'precip': 65, 'temp': 65} 7 196.217737365\n",
      "1365 {'precip': 65, 'temp': 65} 7 85.0208521315\n",
      "1367 {'precip': 65, 'temp': 65} 9 87.6739851006\n",
      "1368 {'precip': 65, 'temp': 65} 3 90.3488472477\n",
      "1369 {'precip': 65, 'temp': 65} 7 84.4813219284\n",
      "1370 {'precip': 65, 'temp': 65} 7 85.5783152883\n",
      "1371 {'precip': 65, 'temp': 65} 4 127.814828451\n",
      "1372 {'precip': 66, 'temp': 65} 9 98.3273604013\n",
      "1373 {'precip': 65, 'temp': 65} 7 115.318384931\n",
      "1374 {'precip': 66, 'temp': 65} 9 98.8305949216\n",
      "1375 {'precip': 65, 'temp': 65} 3 75.2652061336\n",
      "1376 {'precip': 65, 'temp': 65} 3 104.644737672\n",
      "1377 {'precip': 65, 'temp': 65} 7 128.953282872\n",
      "1378 {'precip': 65, 'temp': 65} 1 43.8883775128\n",
      "1379 {'precip': 65, 'temp': 65} 3 64.8184008864\n",
      "1380 {'precip': 65, 'temp': 65} 4 70.3728827213\n",
      "1381 {'precip': 65, 'temp': 65} 1 52.041276403\n",
      "1382 {'precip': 66, 'temp': 65} 9 107.432745812\n",
      "1383 {'precip': 65, 'temp': 65} 8 125.334055958\n",
      "1384 {'precip': 66, 'temp': 65} 9 112.119198494\n",
      "1385 {'precip': 66, 'temp': 65} 9 166.202949085\n",
      "1386 {'precip': 65, 'temp': 65} 8 187.363239092\n",
      "1387 {'precip': 78, 'temp': 65} 9 100.005578656\n",
      "1390 {'precip': 65, 'temp': 65} 5 139.274392428\n",
      "1391 {'precip': 65, 'temp': 65} 9 121.356472315\n",
      "1392 {'precip': 725, 'temp': 65} 9 128.630058157\n",
      "1393 {'precip': 725, 'temp': 65} 9 126.640354814\n",
      "1394 {'precip': 65, 'temp': 65} 4 68.8911313109\n",
      "1395 {'precip': 725, 'temp': 65} 9 100.054524404\n",
      "1397 {'precip': 66, 'temp': 65} 9 102.806754235\n",
      "1400 {'precip': 72, 'temp': 65} 9 30.839206956\n",
      "1403 {'precip': 730, 'temp': 65} 9 142.292417622\n",
      "1404 {'precip': 725, 'temp': 65} 9 152.153399915\n",
      "1405 {'precip': 65, 'temp': 65} 9 107.75906942\n",
      "1406 {'precip': 66, 'temp': 65} 9 79.3740897832\n",
      "1407 {'precip': 226, 'temp': 67} 9 15.4765064117\n",
      "1409 {'precip': 65, 'temp': 65} 8 111.447556055\n",
      "1412 {'precip': 65, 'temp': 65} 9 114.633922513\n",
      "1414 {'precip': 725, 'temp': 65} 9 155.442835844\n",
      "1416 {'precip': 65, 'temp': 65} 4 53.4377970526\n",
      "1417 {'precip': 65, 'temp': 65} 9 91.2763525885\n",
      "1418 {'precip': 65, 'temp': 65} 7 29.0810867502\n",
      "1419 {'precip': 212, 'temp': 65} 9 115.262310712\n",
      "1420 {'precip': 730, 'temp': 65} 9 282.525501912\n",
      "1421 {'precip': 72, 'temp': 65} 9 32.6617556934\n",
      "1422 {'precip': 725, 'temp': 65} 9 215.498024333\n",
      "1424 {'precip': 226, 'temp': 67} 9 17.8664846847\n",
      "1426 {'precip': 725, 'temp': 65} 9 119.192070493\n",
      "1427 {'precip': 65, 'temp': 65} 6 92.4707995384\n",
      "1428 {'precip': 217, 'temp': 65} 9 115.972009754\n",
      "1429 {'precip': 66, 'temp': 65} 9 85.1875937169\n",
      "1430 {'precip': 66, 'temp': 65} 9 112.813543596\n",
      "1431 {'precip': 65, 'temp': 65} 7 164.104913899\n",
      "1432 {'precip': 65, 'temp': 65} 7 164.104913899\n",
      "1433 {'precip': 66, 'temp': 65} 9 92.4022793614\n",
      "1434 {'precip': 65, 'temp': 65} 3 53.2529566446\n",
      "1435 {'precip': 65, 'temp': 65} 3 16.787494927\n",
      "1436 {'precip': 65, 'temp': 65} 6 91.7200263663\n",
      "1437 {'precip': 65, 'temp': 65} 3 17.8517934223\n",
      "1438 {'precip': 65, 'temp': 65} 4 20.0551474361\n",
      "1439 {'precip': 65, 'temp': 65} 6 84.222297317\n",
      "1440 {'precip': 65, 'temp': 65} 5 48.4821858735\n",
      "1441 {'precip': 65, 'temp': 65} 7 37.8126336571\n",
      "1442 {'precip': 66, 'temp': 65} 9 108.905075931\n",
      "1443 {'precip': 65, 'temp': 65} 5 45.3408031309\n",
      "1445 {'precip': 65, 'temp': 65} 8 58.4564613287\n",
      "1446 {'precip': 65, 'temp': 65} 7 40.1247578438\n",
      "1448 {'precip': 65, 'temp': 65} 3 15.8765399023\n",
      "1449 {'precip': 66, 'temp': 65} 9 118.050542934\n",
      "1450 {'precip': 65, 'temp': 65} 4 101.831306049\n",
      "1451 {'precip': 65, 'temp': 65} 9 141.093346023\n",
      "1452 {'precip': 65, 'temp': 65} 6 111.66367027\n",
      "1453 {'precip': 66, 'temp': 65} 9 148.449985147\n",
      "1454 {'precip': 65, 'temp': 65} 5 71.1700197048\n",
      "1455 {'precip': 68, 'temp': 65} 9 155.675152954\n",
      "1456 {'precip': 65, 'temp': 65} 8 115.949975718\n",
      "1457 {'precip': 66, 'temp': 65} 9 179.549496481\n",
      "1458 {'precip': 65, 'temp': 65} 2 16.8245747876\n",
      "1459 {'precip': 65, 'temp': 65} 2 16.934504424\n",
      "1460 {'precip': 65, 'temp': 65} 4 57.6339238017\n",
      "1461 {'precip': 65, 'temp': 65} 4 57.4807500476\n",
      "1462 {'precip': 65, 'temp': 65} 6 86.3286363159\n",
      "1463 {'precip': 65, 'temp': 65} 8 117.20510487\n",
      "1464 {'precip': 65, 'temp': 65} 2 16.934504424\n",
      "1465 {'precip': 65, 'temp': 65} 3 26.989176321\n",
      "1466 {'precip': 66, 'temp': 65} 9 149.782275458\n",
      "1467 {'precip': 66, 'temp': 65} 9 166.617396112\n",
      "1468 {'precip': 65, 'temp': 65} 3 74.8307792048\n",
      "1469 {'precip': 65, 'temp': 65} 3 74.550549272\n",
      "1470 {'precip': 73, 'temp': 65} 9 159.135712804\n",
      "1471 {'precip': 65, 'temp': 65} 8 137.690253333\n",
      "1472 {'precip': 65, 'temp': 65} 5 82.9990302838\n",
      "1473 {'precip': 65, 'temp': 65} 9 113.175542246\n",
      "1474 {'precip': 65, 'temp': 65} 6 92.915700424\n",
      "1475 {'precip': 66, 'temp': 65} 9 154.276883555\n",
      "1476 {'precip': 65, 'temp': 65} 6 100.766315217\n",
      "1477 {'precip': 65, 'temp': 65} 9 233.71611016\n",
      "1478 {'precip': 65, 'temp': 65} 4 55.2015075331\n",
      "1479 {'precip': 73, 'temp': 65} 9 170.630861826\n",
      "1480 {'precip': 66, 'temp': 65} 9 190.220597477\n",
      "1481 {'precip': 66, 'temp': 65} 9 189.112035272\n",
      "1482 {'precip': 65, 'temp': 65} 7 119.786518356\n",
      "1483 {'precip': 65, 'temp': 65} 8 131.304275658\n",
      "1484 {'precip': 73, 'temp': 65} 9 193.625792099\n",
      "1485 {'precip': 65, 'temp': 65} 5 72.4643422947\n",
      "1487 {'precip': 65, 'temp': 65} 7 118.262383554\n",
      "1488 {'precip': 65, 'temp': 65} 2 61.8652061719\n",
      "1489 {'precip': 65, 'temp': 65} 4 92.3771299603\n",
      "1490 {'precip': 66, 'temp': 65} 9 180.968381047\n",
      "1491 {'precip': 65, 'temp': 65} 9 227.94145025\n",
      "1492 {'precip': 65, 'temp': 65} 5 74.3544611106\n",
      "1493 {'precip': 65, 'temp': 65} 5 108.910202882\n",
      "1494 {'precip': 66, 'temp': 65} 9 135.052264419\n",
      "1496 {'precip': 730, 'temp': 65} 9 777.208928124\n",
      "1497 {'precip': 69, 'temp': 65} 9 431.990429198\n",
      "1498 {'precip': 65, 'temp': 65} 9 299.355540613\n",
      "1500 {'precip': 69, 'temp': 65} 9 467.771514046\n",
      "1501 {'precip': 69, 'temp': 65} 9 348.162970406\n",
      "1502 {'precip': 69, 'temp': 65} 9 351.688591853\n",
      "1504 {'precip': 66, 'temp': 65} 9 290.576498997\n",
      "1505 {'precip': 69, 'temp': 65} 9 410.003251999\n",
      "1506 {'precip': 69, 'temp': 65} 9 410.003251999\n",
      "1508 {'precip': 730, 'temp': 65} 9 574.067529504\n",
      "1509 {'precip': 69, 'temp': 65} 9 395.983282427\n",
      "1510 {'precip': 69, 'temp': 65} 9 659.336344009\n"
     ]
    }
   ],
   "source": [
    "for i in df2.index[1190:]:\n",
    "    try: \n",
    "        s1 = df2.station_id[i]\n",
    "        df_s1 = pd.DataFrame.from_csv('../data/daily_weather/' + str(s1) + '.csv')\n",
    "        df_s1 = add_src_cols(df_s1)\n",
    "        for n, d in enumerate(closest[s1]):\n",
    "            s2 = d[0]\n",
    "            dist = d[1]\n",
    "            df_s2 = pd.DataFrame.from_csv('../data/daily_weather/' + str(s2) + '.csv')\n",
    "            df_s1, nan_prefill = fill_in(df_s1, df_s2, s2)\n",
    "            if nan_prefill['temp'] < 66 and nan_prefill['precip'] < 66:\n",
    "                break\n",
    "        df2.ix[i, 'temp_nan_post_fill'] = nan_prefill['temp']\n",
    "        df2.ix[i, 'precip_nan_post_fill'] = nan_prefill['precip']\n",
    "        save_filled_df(df_s1, s1)\n",
    "        print i, nan_prefill, n, dist\n",
    "    except:\n",
    "        print i, 'fail'"
   ]
  },
  {
   "cell_type": "code",
   "execution_count": 175,
   "metadata": {
    "collapsed": true
   },
   "outputs": [],
   "source": [
    "df2.to_csv('../data/station_shorterlist.csv')"
   ]
  },
  {
   "cell_type": "code",
   "execution_count": 87,
   "metadata": {
    "collapsed": false
   },
   "outputs": [],
   "source": [
    "df_s1 = pd.DataFrame.from_csv('../data/daily_weather/' + str(s1) + '.csv')\n",
    "df_s2 = pd.DataFrame.from_csv('../data/daily_weather/' + str(s2) + '.csv')"
   ]
  },
  {
   "cell_type": "code",
   "execution_count": 104,
   "metadata": {
    "collapsed": false
   },
   "outputs": [],
   "source": []
  },
  {
   "cell_type": "code",
   "execution_count": 102,
   "metadata": {
    "collapsed": false
   },
   "outputs": [
    {
     "data": {
      "text/plain": [
       "Index([u'T_high', u'T_low', u'h_rain', u'h_snow', u'h_all_precip', u'temp_src_id', u'precip_src_id'], dtype='object')"
      ]
     },
     "execution_count": 102,
     "metadata": {},
     "output_type": "execute_result"
    }
   ],
   "source": [
    "df_s1.columns"
   ]
  },
  {
   "cell_type": "code",
   "execution_count": 80,
   "metadata": {
    "collapsed": false
   },
   "outputs": [
    {
     "name": "stdout",
     "output_type": "stream",
     "text": [
      "T_high 230\n",
      "T_low 229\n",
      "h_rain 230\n",
      "h_snow 230\n",
      "h_all_precip 230\n"
     ]
    }
   ],
   "source": [
    "for c in df_s1.columns:\n",
    "    if '_src_id' in c: continue\n",
    "    print c, len(df_s1.query(c + ' != ' + c))"
   ]
  },
  {
   "cell_type": "code",
   "execution_count": 75,
   "metadata": {
    "collapsed": true
   },
   "outputs": [],
   "source": [
    "a = set([1])\n",
    "b = set([1, 4])"
   ]
  },
  {
   "cell_type": "code",
   "execution_count": null,
   "metadata": {
    "collapsed": true
   },
   "outputs": [],
   "source": [
    "a.intersection"
   ]
  },
  {
   "cell_type": "code",
   "execution_count": 96,
   "metadata": {
    "collapsed": false
   },
   "outputs": [
    {
     "data": {
      "text/plain": [
       "293"
      ]
     },
     "execution_count": 96,
     "metadata": {},
     "output_type": "execute_result"
    }
   ],
   "source": [
    "len(main_nan_groups['temp_src_id'])"
   ]
  },
  {
   "cell_type": "code",
   "execution_count": 98,
   "metadata": {
    "collapsed": false
   },
   "outputs": [
    {
     "data": {
      "text/plain": [
       "394"
      ]
     },
     "execution_count": 98,
     "metadata": {},
     "output_type": "execute_result"
    }
   ],
   "source": [
    "len(filler_notnan_groups['temp_src_id'])"
   ]
  },
  {
   "cell_type": "code",
   "execution_count": 81,
   "metadata": {
    "collapsed": false
   },
   "outputs": [],
   "source": [
    "df_3 = fill_in(df_s1, df_s2, s2)"
   ]
  },
  {
   "cell_type": "code",
   "execution_count": 177,
   "metadata": {
    "collapsed": false
   },
   "outputs": [
    {
     "data": {
      "text/plain": [
       "Index([u'name', u'province', u'climate_id', u'station_id', u'wmo_id', u'tc_id', u'latitude_decimal_degrees', u'longitude_decimal_degrees', u'latitude', u'longitude', u'elevation_m', u'start_date', u'end_date', u'h_rain_nan', u'T_low_nan', u'date_nan', u'h_snow_nan', u'T_high_nan', u'h_all_precip_nan', u'T_high_avg_nan', u'T_min_nan', u'T_low_avg_nan', u'T_max_nan', u'period_T_low_nan', u'period_T_high_nan', u'T_min_year_nan', u'day_nan', u'T_max_year_nan', u'month_nan', u'alm_stn_id', u'alm_stn_dist', u'norm_stn_id', u'norm_stn_dist', u'temp_nan_post_fill', u'precip_nan_post_fill'], dtype='object')"
      ]
     },
     "execution_count": 177,
     "metadata": {},
     "output_type": "execute_result"
    }
   ],
   "source": [
    "df2.columns"
   ]
  },
  {
   "cell_type": "code",
   "execution_count": 15,
   "metadata": {
    "collapsed": false
   },
   "outputs": [],
   "source": [
    "stn_id_dict = {}\n",
    "for i in df2.index:\n",
    "    stn_id_dict[str(df2.station_id[i])] = {'stn_id_almanac': str(int(df2.alm_stn_id[i])),\n",
    "                                   'stn_id_normals': str(int(df2.norm_stn_id[i]))}"
   ]
  },
  {
   "cell_type": "code",
   "execution_count": 16,
   "metadata": {
    "collapsed": false
   },
   "outputs": [],
   "source": [
    "f = open('../data/stn_id_dict.json', 'w')\n",
    "json.dump(stn_id_dict, f)\n",
    "f.close()"
   ]
  },
  {
   "cell_type": "code",
   "execution_count": 190,
   "metadata": {
    "collapsed": true
   },
   "outputs": [],
   "source": [
    "dfn = pd.DataFrame.from_csv('../data/normals/precip_only_short.csv', index_col=False)"
   ]
  },
  {
   "cell_type": "code",
   "execution_count": 200,
   "metadata": {
    "collapsed": true
   },
   "outputs": [],
   "source": [
    "normal_id_dict = {52: 'h_rain_mm', 54: 'h_snow_cm', 56: 'h_all_precip_mm'}"
   ]
  },
  {
   "cell_type": "code",
   "execution_count": null,
   "metadata": {
    "collapsed": true
   },
   "outputs": [],
   "source": []
  },
  {
   "cell_type": "code",
   "execution_count": 214,
   "metadata": {
    "collapsed": false
   },
   "outputs": [],
   "source": [
    "# stn_id = 1518\n",
    "for stn_id in list(set(dfn.STATION_ID))[:]:\n",
    "    df_temp = pd.DataFrame(columns=normal_id_dict.values(), index=range(1, 13))\n",
    "    df_temp.index.name = 'month'\n",
    "    for nid in normal_id_dict:\n",
    "        indices = dfn.query('STATION_ID == ' + str(stn_id) + ' and NORMAL_ID == ' + str(nid)).index\n",
    "        df_temp[normal_id_dict[nid]] = pd.Series(list(dfn.VALUE[indices]), index=list(dfn.MONTH[indices]))\n",
    "    df_temp.to_csv('../data/normals/' + str(stn_id) + '.csv')"
   ]
  },
  {
   "cell_type": "code",
   "execution_count": null,
   "metadata": {
    "collapsed": true
   },
   "outputs": [],
   "source": []
  },
  {
   "cell_type": "code",
   "execution_count": 219,
   "metadata": {
    "collapsed": false
   },
   "outputs": [
    {
     "data": {
      "image/png": "[encoded data removed]",
      "text/plain": [
       "<matplotlib.figure.Figure at 0x10a85f590>"
      ]
     },
     "metadata": {},
     "output_type": "display_data"
    }
   ],
   "source": [
    "plt.hist([x for x in list(df2.temp_nan_post_fill) if x==x], bins=100);"
   ]
  },
  {
   "cell_type": "code",
   "execution_count": 220,
   "metadata": {
    "collapsed": false
   },
   "outputs": [
    {
     "data": {
      "image/png": "[encoded data removed]",
      "text/plain": [
       "<matplotlib.figure.Figure at 0x10ad00790>"
      ]
     },
     "metadata": {},
     "output_type": "display_data"
    }
   ],
   "source": [
    "plt.hist([x for x in list(df2.precip_nan_post_fill) if x==x], bins=100);"
   ]
  },
  {
   "cell_type": "code",
   "execution_count": 222,
   "metadata": {
    "collapsed": true
   },
   "outputs": [],
   "source": [
    "indices2drop = df2.query('precip_nan_post_fill > 100 or temp_nan_post_fill > 100').index"
   ]
  },
  {
   "cell_type": "code",
   "execution_count": 223,
   "metadata": {
    "collapsed": false
   },
   "outputs": [
    {
     "data": {
      "text/plain": [
       "353"
      ]
     },
     "execution_count": 223,
     "metadata": {},
     "output_type": "execute_result"
    }
   ],
   "source": [
    "len(indices2drop)"
   ]
  },
  {
   "cell_type": "code",
   "execution_count": 224,
   "metadata": {
    "collapsed": false
   },
   "outputs": [
    {
     "data": {
      "text/plain": [
       "1338"
      ]
     },
     "execution_count": 224,
     "metadata": {},
     "output_type": "execute_result"
    }
   ],
   "source": [
    "len(df2)"
   ]
  },
  {
   "cell_type": "code",
   "execution_count": 225,
   "metadata": {
    "collapsed": true
   },
   "outputs": [],
   "source": [
    "df3 = df2.copy()"
   ]
  },
  {
   "cell_type": "code",
   "execution_count": 227,
   "metadata": {
    "collapsed": false
   },
   "outputs": [],
   "source": [
    "df3 = df3.drop(indices2drop)"
   ]
  },
  {
   "cell_type": "code",
   "execution_count": 228,
   "metadata": {
    "collapsed": false
   },
   "outputs": [
    {
     "data": {
      "text/plain": [
       "985"
      ]
     },
     "execution_count": 228,
     "metadata": {},
     "output_type": "execute_result"
    }
   ],
   "source": [
    "len(df3)"
   ]
  },
  {
   "cell_type": "code",
   "execution_count": 229,
   "metadata": {
    "collapsed": true
   },
   "outputs": [],
   "source": [
    "df3.to_csv('../data/station_even_shorterlist.csv')"
   ]
  },
  {
   "cell_type": "code",
   "execution_count": null,
   "metadata": {
    "collapsed": true
   },
   "outputs": [],
   "source": []
  }
 ],
 "metadata": {
  "kernelspec": {
   "display_name": "Python 2",
   "language": "python",
   "name": "python2"
  },
  "language_info": {
   "codemirror_mode": {
    "name": "ipython",
    "version": 2
   },
   "file_extension": ".py",
   "mimetype": "text/x-python",
   "name": "python",
   "nbconvert_exporter": "python",
   "pygments_lexer": "ipython2",
   "version": "2.7.10"
  }
 },
 "nbformat": 4,
 "nbformat_minor": 0
}
